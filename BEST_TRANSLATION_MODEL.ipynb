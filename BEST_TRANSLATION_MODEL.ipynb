{
  "nbformat": 4,
  "nbformat_minor": 0,
  "metadata": {
    "colab": {
      "provenance": [],
      "mount_file_id": "1B09fnTuq281-dM_TNEOwjkVFs7wC8Pbb",
      "authorship_tag": "ABX9TyO5czpnkRYqd9ts5hzuaumD",
      "include_colab_link": true
    },
    "kernelspec": {
      "name": "python3",
      "display_name": "Python 3"
    },
    "language_info": {
      "name": "python"
    }
  },
  "cells": [
    {
      "cell_type": "markdown",
      "metadata": {
        "id": "view-in-github",
        "colab_type": "text"
      },
      "source": [
        "<a href=\"https://colab.research.google.com/github/cds0987/Translation-RCNN/blob/main/BEST_TRANSLATION_MODEL.ipynb\" target=\"_parent\"><img src=\"https://colab.research.google.com/assets/colab-badge.svg\" alt=\"Open In Colab\"/></a>"
      ]
    },
    {
      "cell_type": "code",
      "execution_count": 1,
      "metadata": {
        "id": "Vkhyv9HutVP_"
      },
      "outputs": [],
      "source": [
        "file_path = \"/content/drive/MyDrive/NLP_PJROJECT/vie.txt\"\n",
        "\n",
        "# Read the contents of the file\n",
        "with open(file_path, \"r\") as file:\n",
        "    file_contents = file.readlines()"
      ]
    },
    {
      "cell_type": "code",
      "source": [
        "import string\n",
        "\n",
        "# Function to remove punctuation marks from a sentence\n",
        "def remove_punctuation(sentence):\n",
        "    return ''.join(char for char in sentence if char not in string.punctuation)\n"
      ],
      "metadata": {
        "id": "CebZYyu56cWr"
      },
      "execution_count": 2,
      "outputs": []
    },
    {
      "cell_type": "code",
      "source": [
        "max_seq_length = 18\n",
        "\n",
        "input_sentences = []\n",
        "target_sentences = []\n",
        "for line in file_contents:  # Print only the first pair for testing\n",
        "    input_text, target_text, _ = line.strip().split('\\t')\n",
        "    input_text = remove_punctuation(input_text)\n",
        "    target_text = remove_punctuation(target_text)\n",
        "    input_sentences.append(input_text)\n",
        "    target_sentences.append(target_text)\n"
      ],
      "metadata": {
        "id": "nJomXwoe6eHI"
      },
      "execution_count": 3,
      "outputs": []
    },
    {
      "cell_type": "code",
      "source": [
        "import matplotlib.pyplot as plt\n"
      ],
      "metadata": {
        "id": "WFuLoPwaB6-2"
      },
      "execution_count": 5,
      "outputs": []
    },
    {
      "cell_type": "code",
      "source": [
        "from tensorflow.keras.preprocessing.text import Tokenizer\n",
        "from tensorflow.keras.preprocessing.sequence import pad_sequences"
      ],
      "metadata": {
        "id": "yrEbp8UK68Bv"
      },
      "execution_count": 4,
      "outputs": []
    },
    {
      "cell_type": "code",
      "source": [
        "generation_signal = \"<gen>\"\n",
        "eos_signal = \"<eos>\"\n",
        "pad_token = \"<pad>\"\n",
        "\n",
        "# Function to modify sentences\n",
        "def modify_sentences(sentences):\n",
        "    modified_sentences = []\n",
        "    for sentence in sentences:\n",
        "        # Append generation signal at the beginning and EOS signal at the end of the sentence\n",
        "        modified_sentence = f\"{generation_signal} {sentence} {eos_signal}\"\n",
        "        modified_sentences.append(modified_sentence)\n",
        "    return modified_sentences\n",
        "\n",
        "# Modify input sentences\n",
        "modified_input_sentences = modify_sentences(input_sentences)\n",
        "\n",
        "# Modify target sentences\n",
        "modified_target_sentences = modify_sentences(target_sentences)"
      ],
      "metadata": {
        "id": "HrRMUOmT6zjw"
      },
      "execution_count": 6,
      "outputs": []
    },
    {
      "cell_type": "code",
      "source": [
        "tokenizer_input = Tokenizer(filters='', oov_token='<unk>')\n",
        "tokenizer_input.fit_on_texts(modified_input_sentences)\n",
        "tokenizer_input.word_index[pad_token] = len(tokenizer_input.word_index) + 1\n",
        "tokenizer_input.index_word[len(tokenizer_input.word_index)] = pad_token\n",
        "input_sequences = tokenizer_input.texts_to_sequences(modified_input_sentences)\n"
      ],
      "metadata": {
        "id": "n9bkRrTM7xt-"
      },
      "execution_count": 7,
      "outputs": []
    },
    {
      "cell_type": "code",
      "source": [
        "tokenizer_target = Tokenizer(filters='', oov_token='<unk>')\n",
        "tokenizer_target.fit_on_texts(modified_target_sentences)\n",
        "tokenizer_target.word_index[pad_token] = len(tokenizer_target.word_index) + 1\n",
        "tokenizer_target.index_word[len(tokenizer_target.word_index)] = pad_token\n",
        "target_sequences = tokenizer_target.texts_to_sequences(modified_target_sentences)"
      ],
      "metadata": {
        "id": "yCNkzS7g7z0i"
      },
      "execution_count": 8,
      "outputs": []
    },
    {
      "cell_type": "code",
      "source": [
        "max_length = max(len(seq) for seq in input_sequences + target_sequences)\n",
        "padded_input_sequences = pad_sequences(input_sequences, maxlen=18, padding='post', value=tokenizer_input.word_index[pad_token])\n",
        "padded_target_sequences = pad_sequences(target_sequences, maxlen=18, padding='post', value=tokenizer_target.word_index[pad_token])"
      ],
      "metadata": {
        "id": "-R8Ykl4y71ky"
      },
      "execution_count": 9,
      "outputs": []
    },
    {
      "cell_type": "code",
      "source": [
        "print(\"First Padded Input Sequence:\")\n",
        "print(padded_input_sequences[17])\n"
      ],
      "metadata": {
        "colab": {
          "base_uri": "https://localhost:8080/"
        },
        "id": "E_wlpifB8wAM",
        "outputId": "34ad16f4-e7ae-45c8-d406-71c9f8d6b2f7"
      },
      "execution_count": 10,
      "outputs": [
        {
          "output_type": "stream",
          "name": "stdout",
          "text": [
            "First Padded Input Sequence:\n",
            "[   2  114   20    3 4100 4100 4100 4100 4100 4100 4100 4100 4100 4100\n",
            " 4100 4100 4100 4100]\n"
          ]
        }
      ]
    },
    {
      "cell_type": "code",
      "source": [
        "# New sentence\n",
        "new_sentence = \"Got it\"\n",
        "\n",
        "# Modify the sentence\n",
        "modified_new_sentence = f\"{generation_signal} {new_sentence} {eos_signal}\"\n",
        "\n",
        "# Tokenize the modified sentence\n",
        "new_sentence_sequence = tokenizer_input.texts_to_sequences([modified_new_sentence])\n",
        "\n",
        "# Pad the sequence\n",
        "padded_new_sentence_sequence = pad_sequences(new_sentence_sequence, maxlen=18, padding='post', value=tokenizer_input.word_index[pad_token])\n",
        "\n",
        "# Print the padded sequence\n",
        "print(\"Padded New Sentence Sequence:\")\n",
        "print(padded_new_sentence_sequence)\n"
      ],
      "metadata": {
        "id": "MVZ_2EGv9KO0",
        "colab": {
          "base_uri": "https://localhost:8080/"
        },
        "outputId": "a960fc5c-06fa-4e47-d220-2d87617ba84a"
      },
      "execution_count": 11,
      "outputs": [
        {
          "output_type": "stream",
          "name": "stdout",
          "text": [
            "Padded New Sentence Sequence:\n",
            "[[   2  114   20    3 4100 4100 4100 4100 4100 4100 4100 4100 4100 4100\n",
            "  4100 4100 4100 4100]]\n"
          ]
        }
      ]
    },
    {
      "cell_type": "code",
      "source": [
        "from sklearn.model_selection import train_test_split\n",
        "\n",
        "# Split the data into training and testing sets\n",
        "X_train, X_test, y_train, y_test = train_test_split(padded_input_sequences, padded_target_sequences, test_size=0.5, random_state=42)\n",
        "\n",
        "# Print the shapes of the training and testing sets\n",
        "print(\"Training set shapes:\")\n",
        "print(\"X_train:\", X_train.shape)\n",
        "print(\"y_train:\", y_train.shape)\n",
        "print(\"\\nTesting set shapes:\")\n",
        "print(\"X_test:\", X_test.shape)\n",
        "print(\"y_test:\", y_test.shape)"
      ],
      "metadata": {
        "colab": {
          "base_uri": "https://localhost:8080/"
        },
        "id": "L3iasnPt9q4Q",
        "outputId": "6c0de7a2-5070-467f-d8bd-c18434324cd9"
      },
      "execution_count": 12,
      "outputs": [
        {
          "output_type": "stream",
          "name": "stdout",
          "text": [
            "Training set shapes:\n",
            "X_train: (4702, 18)\n",
            "y_train: (4702, 18)\n",
            "\n",
            "Testing set shapes:\n",
            "X_test: (4702, 18)\n",
            "y_test: (4702, 18)\n"
          ]
        }
      ]
    },
    {
      "cell_type": "code",
      "source": [],
      "metadata": {
        "id": "WjfE_AY6FLCZ"
      },
      "execution_count": null,
      "outputs": []
    },
    {
      "cell_type": "code",
      "source": [
        "max_length = 18\n",
        "\n",
        "# Define the vocabulary size for input and target sequences\n",
        "vocab_size_input = len(tokenizer_input.word_index) + 1  # Add 1 for the padding token (index 0)\n",
        "vocab_size_target = len(tokenizer_target.word_index) + 1  #"
      ],
      "metadata": {
        "id": "M8sPWJn796EJ"
      },
      "execution_count": 13,
      "outputs": []
    },
    {
      "cell_type": "code",
      "source": [
        "print(vocab_size_input)\n",
        "print(vocab_size_target)\n"
      ],
      "metadata": {
        "colab": {
          "base_uri": "https://localhost:8080/"
        },
        "id": "R9vnJB079-W1",
        "outputId": "c497fb83-d422-4f8a-d817-028cd2bf2e7b"
      },
      "execution_count": 14,
      "outputs": [
        {
          "output_type": "stream",
          "name": "stdout",
          "text": [
            "4101\n",
            "2490\n"
          ]
        }
      ]
    },
    {
      "cell_type": "code",
      "source": [
        "import tensorflow as tf\n",
        "from tensorflow.keras.layers import Input, LSTM, Dense\n",
        "from tensorflow.keras.models import Model\n",
        "\n",
        "encoder_inputs = Input(shape=(max_length,))\n",
        "encoder_embedding = tf.keras.layers.Embedding(vocab_size_input, 100, input_length=max_length)(encoder_inputs)\n",
        "encoder_outputs, state_h, state_c = LSTM(256, return_state=True)(encoder_embedding)\n"
      ],
      "metadata": {
        "id": "Y9isiJ1O-G3E"
      },
      "execution_count": 32,
      "outputs": []
    },
    {
      "cell_type": "code",
      "source": [
        "from tensorflow.keras.layers import Input, LSTM, Dense\n",
        "from tensorflow.keras.models import Model"
      ],
      "metadata": {
        "id": "vtGf-Z_d5kxX"
      },
      "execution_count": 33,
      "outputs": []
    },
    {
      "cell_type": "code",
      "source": [
        "encoder_states = [state_h, state_c]\n",
        "intermediate_dim = 256  # Example value, adjust as needed\n",
        "\n",
        "# Define the linear layer\n",
        "linear_layer = Dense(intermediate_dim, activation='relu')\n",
        "linear_outputs = linear_layer(state_h)\n"
      ],
      "metadata": {
        "id": "O3_VRWH95yHa"
      },
      "execution_count": 34,
      "outputs": []
    },
    {
      "cell_type": "code",
      "source": [
        "linear_layer = Dense(intermediate_dim, activation='relu')\n",
        "linear_outputss = linear_layer(state_c)"
      ],
      "metadata": {
        "id": "aA0EVjSP62SP"
      },
      "execution_count": 35,
      "outputs": []
    },
    {
      "cell_type": "code",
      "source": [
        "print(linear_outputs.shape)"
      ],
      "metadata": {
        "colab": {
          "base_uri": "https://localhost:8080/"
        },
        "id": "hL3vAHJI6kQY",
        "outputId": "82e420c0-e656-4c4f-d567-e780153e600a"
      },
      "execution_count": 23,
      "outputs": [
        {
          "output_type": "stream",
          "name": "stdout",
          "text": [
            "(None, 256)\n"
          ]
        }
      ]
    },
    {
      "cell_type": "code",
      "source": [
        "encoder_states = [linear_outputs, linear_outputss]"
      ],
      "metadata": {
        "id": "_Yfk8kYf7AOl"
      },
      "execution_count": 36,
      "outputs": []
    },
    {
      "cell_type": "code",
      "source": [
        "# Define the decoder\n",
        "decoder_inputs = Input(shape=(max_length,))\n",
        "decoder_embedding = tf.keras.layers.Embedding(vocab_size_target, 100)(decoder_inputs)\n",
        "decoder_lstm = LSTM(256, return_sequences=True, return_state=True)\n",
        "decoder_outputs, _, _ = decoder_lstm(decoder_embedding, initial_state=encoder_states)\n",
        "decoder_dense = Dense(vocab_size_target, activation='softmax')\n",
        "decoder_outputs = decoder_dense(decoder_outputs)"
      ],
      "metadata": {
        "id": "ASEB_1aX-W7x"
      },
      "execution_count": 37,
      "outputs": []
    },
    {
      "cell_type": "code",
      "source": [
        "model = Model([encoder_inputs, decoder_inputs], decoder_outputs)\n",
        "\n",
        "# Compile the model\n",
        "model.compile(optimizer='adam', loss='sparse_categorical_crossentropy', metrics=['accuracy'])\n",
        "\n",
        "# Print the model summary\n",
        "model.summary()\n"
      ],
      "metadata": {
        "id": "iZ-kJ6cP-aqa"
      },
      "execution_count": null,
      "outputs": []
    },
    {
      "cell_type": "code",
      "source": [
        "history = model.fit([X_train, y_train], y_train, epochs=10, batch_size=64, validation_split=0.2)\n"
      ],
      "metadata": {
        "colab": {
          "base_uri": "https://localhost:8080/"
        },
        "id": "uvnPY46s7xFO",
        "outputId": "c8e6e967-0d18-44d0-f8d3-b0a9d042e9fa"
      },
      "execution_count": 41,
      "outputs": [
        {
          "output_type": "stream",
          "name": "stdout",
          "text": [
            "Epoch 1/10\n",
            "59/59 [==============================] - 21s 355ms/step - loss: 0.3003 - accuracy: 0.9626 - val_loss: 0.4340 - val_accuracy: 0.9556\n",
            "Epoch 2/10\n",
            "59/59 [==============================] - 21s 359ms/step - loss: 0.2660 - accuracy: 0.9678 - val_loss: 0.4048 - val_accuracy: 0.9586\n",
            "Epoch 3/10\n",
            "59/59 [==============================] - 20s 332ms/step - loss: 0.2363 - accuracy: 0.9717 - val_loss: 0.3807 - val_accuracy: 0.9613\n",
            "Epoch 4/10\n",
            "59/59 [==============================] - 21s 352ms/step - loss: 0.2092 - accuracy: 0.9754 - val_loss: 0.3562 - val_accuracy: 0.9651\n",
            "Epoch 5/10\n",
            "59/59 [==============================] - 20s 346ms/step - loss: 0.1849 - accuracy: 0.9789 - val_loss: 0.3371 - val_accuracy: 0.9681\n",
            "Epoch 6/10\n",
            "59/59 [==============================] - 22s 370ms/step - loss: 0.1639 - accuracy: 0.9819 - val_loss: 0.3194 - val_accuracy: 0.9710\n",
            "Epoch 7/10\n",
            "59/59 [==============================] - 19s 329ms/step - loss: 0.1450 - accuracy: 0.9845 - val_loss: 0.3041 - val_accuracy: 0.9726\n",
            "Epoch 8/10\n",
            "59/59 [==============================] - 22s 376ms/step - loss: 0.1280 - accuracy: 0.9870 - val_loss: 0.2896 - val_accuracy: 0.9755\n",
            "Epoch 9/10\n",
            "59/59 [==============================] - 19s 325ms/step - loss: 0.1129 - accuracy: 0.9890 - val_loss: 0.2764 - val_accuracy: 0.9777\n",
            "Epoch 10/10\n",
            "59/59 [==============================] - 21s 352ms/step - loss: 0.0991 - accuracy: 0.9907 - val_loss: 0.2652 - val_accuracy: 0.9786\n"
          ]
        }
      ]
    },
    {
      "cell_type": "code",
      "source": [
        "import nltk\n",
        "import numpy as np\n",
        "from nltk.translate.bleu_score import SmoothingFunction\n",
        "\n",
        "# Import the smoothing function\n",
        "smoothie = SmoothingFunction().method0\n",
        "\n",
        "# Assuming you have your predictions in 'predictions' and ground truth in 'y_test'\n",
        "# predictions = ...\n",
        "# y_test = ...\n",
        "predictions = model.predict([X_test, y_test])\n",
        "\n",
        "# Convert numerical representations back to tokens\n",
        "def indices_to_words(indices, tokenizer):\n",
        "    return [tokenizer.index_word[index] for index in indices if index != 0]  # Exclude padding token\n",
        "\n",
        "# Convert predictions and y_test into lists of lists of strings\n",
        "predicted_sentences = [indices_to_words(sentence, tokenizer_target) for sentence in np.argmax(predictions, axis=2)]\n",
        "reference_sentences = [indices_to_words(sentence, tokenizer_target) for sentence in y_test]\n",
        "\n",
        "# Calculate BLEU scores for each sentence\n",
        "bleu_scores = [nltk.translate.bleu_score.sentence_bleu([reference], predicted, smoothing_function=smoothie) for reference, predicted in zip(reference_sentences, predicted_sentences)]\n",
        "\n",
        "# Average BLEU scores over all sentences\n",
        "average_bleu_score = np.mean(bleu_scores)\n",
        "\n",
        "print(\"Average BLEU Score:\", average_bleu_score)\n"
      ],
      "metadata": {
        "colab": {
          "base_uri": "https://localhost:8080/"
        },
        "id": "v5NCSAiqDroi",
        "outputId": "2bddd98f-9443-4352-b1f0-3e41ffa650e3"
      },
      "execution_count": 42,
      "outputs": [
        {
          "output_type": "stream",
          "name": "stdout",
          "text": [
            "147/147 [==============================] - 68s 60ms/step\n",
            "Average BLEU Score: 0.9545196266160147\n"
          ]
        }
      ]
    },
    {
      "cell_type": "code",
      "source": [
        "import matplotlib.pyplot as plt\n",
        "\n",
        "# Assuming you have already imported your model and data\n",
        "\n",
        "# Plot training & validation loss values\n",
        "plt.plot(history.history['loss'])\n",
        "plt.plot(history.history['val_loss'])\n",
        "plt.title('Model loss')\n",
        "plt.ylabel('Loss')\n",
        "plt.xlabel('Epoch')\n",
        "plt.legend(['Train', 'Validation'], loc='upper left')\n",
        "plt.show()\n",
        "\n",
        "# Plot training & validation accuracy values\n",
        "plt.plot(history.history['accuracy'])\n",
        "plt.plot(history.history['val_accuracy'])\n",
        "plt.title('Model accuracy')\n",
        "plt.ylabel('Accuracy')\n",
        "plt.xlabel('Epoch')\n",
        "plt.legend(['Train', 'Validation'], loc='upper left')\n",
        "plt.show()\n",
        "model.save_weights(\"translation_model_weights.h5\")"
      ],
      "metadata": {
        "colab": {
          "base_uri": "https://localhost:8080/",
          "height": 927
        },
        "id": "bHqkB4Y4-c-p",
        "outputId": "483640f6-c489-4095-91a7-82594746f387"
      },
      "execution_count": 74,
      "outputs": [
        {
          "output_type": "display_data",
          "data": {
            "text/plain": [
              "<Figure size 640x480 with 1 Axes>"
            ],
            "image/png": "[encoded data removed]"
          },
          "metadata": {}
        },
        {
          "output_type": "display_data",
          "data": {
            "text/plain": [
              "<Figure size 640x480 with 1 Axes>"
            ],
            "image/png": "[encoded data removed]"
          },
          "metadata": {}
        }
      ]
    },
    {
      "cell_type": "code",
      "source": [
        "model.save_weights(\"translation_model_weights.h5\")"
      ],
      "metadata": {
        "id": "goda_dvND8YV"
      },
      "execution_count": 75,
      "outputs": []
    },
    {
      "cell_type": "code",
      "source": [
        "from tensorflow.keras.optimizers import Adam\n",
        "from tensorflow.keras.callbacks import LearningRateScheduler\n",
        "import math\n",
        "\n",
        "models = Model([encoder_inputs, decoder_inputs], decoder_outputs)\n",
        "models.load_weights(\"translation_model_weights.h5\")\n"
      ],
      "metadata": {
        "id": "xZED4l8qDtxk"
      },
      "execution_count": 24,
      "outputs": []
    },
    {
      "cell_type": "code",
      "source": [
        "# Define the learning rate\n",
        "initial_learning_rate = 0.05\n",
        "decay_rate = 0.9\n",
        "decay_steps = 1000\n",
        "def exponential_decay(epoch, lr):\n",
        "    return lr * decay_rate ** (epoch / decay_steps)\n",
        "# Create an instance of the Adam optimizer with custom learning rate\n",
        "adam_optimizer = Adam(learning_rate=initial_learning_rate)\n",
        "\n",
        "# Compile the model with the custom optimizer\n",
        "models.compile(optimizer=adam_optimizer, loss='sparse_categorical_crossentropy', metrics=['accuracy'])\n",
        "lr_scheduler = LearningRateScheduler(exponential_decay, verbose=1)\n",
        "\n",
        "# Fit the model with the learning rate scheduler callback\n",
        "history = models.fit([X_train, X_train], y_train, epochs=10, batch_size=128, callbacks=[lr_scheduler])"
      ],
      "metadata": {
        "id": "koq4L6ZQEMSz"
      },
      "execution_count": null,
      "outputs": []
    },
    {
      "cell_type": "code",
      "source": [
        "plt.plot(history.history['loss'])\n",
        "plt.plot(history.history['val_loss'])\n",
        "plt.title('Model loss')\n",
        "plt.ylabel('Loss')\n",
        "plt.xlabel('Epoch')\n",
        "plt.legend(['Train', 'Validation'], loc='upper left')\n",
        "plt.show()\n",
        "\n",
        "# Plot training & validation accuracy values\n",
        "plt.plot(history.history['accuracy'])\n",
        "plt.plot(history.history['val_accuracy'])\n",
        "plt.title('Model accuracy')\n",
        "plt.ylabel('Accuracy')\n",
        "plt.xlabel('Epoch')\n",
        "plt.legend(['Train', 'Validation'], loc='upper left')\n",
        "plt.show()\n",
        "models.save_weights(\"translations_model_weights.h5\")"
      ],
      "metadata": {
        "id": "Qbv2q-axFW8j"
      },
      "execution_count": null,
      "outputs": []
    },
    {
      "cell_type": "code",
      "source": [
        "models.save_weights(\"translations_model_weights.h5\")"
      ],
      "metadata": {
        "id": "QGhlmb_uHzSi"
      },
      "execution_count": null,
      "outputs": []
    },
    {
      "cell_type": "code",
      "source": [
        "pip install editdistance"
      ],
      "metadata": {
        "colab": {
          "base_uri": "https://localhost:8080/"
        },
        "id": "GCCbQ14IEn5K",
        "outputId": "88a01aeb-c574-4af8-967c-620955549d11"
      },
      "execution_count": null,
      "outputs": [
        {
          "output_type": "stream",
          "name": "stdout",
          "text": [
            "Requirement already satisfied: editdistance in /usr/local/lib/python3.10/dist-packages (0.6.2)\n"
          ]
        }
      ]
    },
    {
      "cell_type": "code",
      "source": [
        "import numpy as np\n",
        "import editdistance  # Install using: pip install editdistance\n",
        "\n",
        "# Assuming you have your predictions in 'predictions' and ground truth in 'y_test'\n",
        "# predictions = ...\n",
        "# y_test = ...\n",
        "\n",
        "# Convert numerical representations back to tokens\n",
        "def indices_to_words(indices, tokenizer):\n",
        "    return [tokenizer.index_word[index] for index in indices if index != 0]  # Exclude padding token\n",
        "\n",
        "# Convert predictions and y_test into lists of strings\n",
        "predicted_sentences = [\" \".join(indices_to_words(sentence, tokenizer_target)) for sentence in np.argmax(predictions, axis=2)]\n",
        "reference_sentences = [\" \".join(indices_to_words(sentence, tokenizer_target)) for sentence in y_test]\n",
        "\n",
        "# Calculate Levenshtein distance for each pair of sentences\n",
        "edit_distances = [editdistance.eval(reference, predicted) for reference, predicted in zip(reference_sentences, predicted_sentences)]\n",
        "\n",
        "# Average Levenshtein distance over all sentences\n",
        "average_edit_distance = np.mean(edit_distances)\n",
        "\n",
        "print(\"Average Levenshtein Distance:\", average_edit_distance)\n"
      ],
      "metadata": {
        "colab": {
          "base_uri": "https://localhost:8080/"
        },
        "id": "uBWz8_bXEima",
        "outputId": "e610ee39-97e2-4d22-d098-8784591974d7"
      },
      "execution_count": 43,
      "outputs": [
        {
          "output_type": "stream",
          "name": "stdout",
          "text": [
            "Average Levenshtein Distance: 1.3668651637601021\n"
          ]
        }
      ]
    },
    {
      "cell_type": "code",
      "source": [],
      "metadata": {
        "id": "EiOiHV5-G3I_"
      },
      "execution_count": null,
      "outputs": []
    }
  ]
}